{
 "cells": [
  {
   "cell_type": "code",
   "execution_count": 43,
   "metadata": {},
   "outputs": [],
   "source": [
    "import os\n",
    "import getpass\n",
    "import api_keys\n",
    "from langchain.retrievers import EnsembleRetriever\n",
    "from langchain.chat_models import init_chat_model\n",
    "from langchain_community.retrievers import WikipediaRetriever\n",
    "import requests\n",
    "from langchain.schema.document import Document\n",
    "from langchain.schema.retriever import BaseRetriever\n",
    "from langchain.document_loaders import TextLoader\n",
    "from langchain.vectorstores import FAISS\n",
    "from langchain.embeddings import HuggingFaceEmbeddings\n",
    "from langchain_core.output_parsers import StrOutputParser\n",
    "from langchain_core.prompts import ChatPromptTemplate\n",
    "from langchain_core.runnables import RunnablePassthrough\n",
    "from api_keys import GROQ_API_KEY, OPENSANCTIONS_API_KEY\n",
    "\n",
    "# if not os.environ.get(\"GROQ_API_KEY\"):\n",
    "#   os.environ[\"GROQ_API_KEY\"] = getpass.getpass(\"Enter API key for Groq: \")\n",
    "\n",
    "# api_key = input(\"Enter your OpenSanctions API Key: \")\n",
    "# os.environ[\"OPENSANCTIONS_API_KEY\"] = api_key"
   ]
  },
  {
   "cell_type": "code",
   "execution_count": 44,
   "metadata": {},
   "outputs": [],
   "source": [
    "model = init_chat_model(\"deepseek-r1-distill-llama-70b\", model_provider=\"groq\")"
   ]
  },
  {
   "cell_type": "code",
   "execution_count": 45,
   "metadata": {},
   "outputs": [],
   "source": [
    "transaction = input(\"Enter the transaction: \")"
   ]
  },
  {
   "cell_type": "code",
   "execution_count": 59,
   "metadata": {},
   "outputs": [
    {
     "data": {
      "text/plain": [
       "{'company_name': 'Tesla, Inc.', 'person_name': ''}"
      ]
     },
     "execution_count": 59,
     "metadata": {},
     "output_type": "execute_result"
    }
   ],
   "source": [
    "from pydantic import BaseModel, Field\n",
    "class ResponseFormatter(BaseModel):\n",
    "    \"\"\"Always use this tool to structure your response to the user.\"\"\"\n",
    "    company_name: str = Field(description=\"name of the received company\")\n",
    "    person_name: str = Field(description=\"Person involved in the transaction, return an empty string if you didn't find any\")\n",
    "\n",
    "\n",
    "model_with_tools = model.bind_tools([ResponseFormatter])\n",
    "entities = model_with_tools.invoke(transaction)\n",
    "entities.tool_calls[0][\"args\"]"
   ]
  },
  {
   "cell_type": "code",
   "execution_count": null,
   "metadata": {},
   "outputs": [],
   "source": [
    "import json \n",
    "\n",
    "class OpenSanctionsRetriever(BaseRetriever):\n",
    "\n",
    "    def _get_relevant_documents(self, person_name, company_name):\n",
    "        \"\"\"\n",
    "        Queries OpenSanctions API and returns relevant documents.\n",
    "        \"\"\"\n",
    "        # person_name=\"\"\n",
    "        # company_name=\"\"\n",
    "        # if \"Company:\" in query or \"Person:\" in query:\n",
    "        #     parts = query.split(\",\")\n",
    "        #     for part in parts:\n",
    "        #         if \"Company:\" in part:\n",
    "        #             company_name = part.split(\"Company:\")[-1].strip()\n",
    "        #             print(company_name)\n",
    "        #         elif \"Person:\" in part:\n",
    "        #             person_name = part.split(\"Person:\")[-1].strip()\n",
    "        #             print(person_name)\n",
    "\n",
    "\n",
    "        headers = {\"Authorization\": OPENSANCTIONS_API_KEY}\n",
    "        # params = {\"q\": query}\n",
    "\n",
    "        query = {\n",
    "            \"queries\": {\n",
    "                \"query-A\": {\"schema\": \"Person\", \"properties\": {\"name\": [person_name]}},\n",
    "                \"query-B\": {\"schema\": \"Company\", \"properties\": {\"name\": [company_name]}},\n",
    "            }\n",
    "        }\n",
    "        response = requests.post(\n",
    "            \"https://api.opensanctions.org/match/default\", headers=headers, json=query\n",
    "        )\n",
    "        # if response.status_code != 200:\n",
    "        #     return []\n",
    "        \n",
    "        response.raise_for_status()\n",
    "        response_json = response.json()\n",
    "        \n",
    "        with open('convert.txt', 'w') as convert_file: \n",
    "            convert_file.write(json.dumps(response_json))\n",
    "        # print(\"\\nFull API Response:\")\n",
    "        # pprint(response_json, sort_dicts=False)\n",
    "\n",
    "        # if not response_json.get(\"results\"):\n",
    "        #     print(\"empty list lool\")\n",
    "        #     return []\n",
    "\n",
    "        documents = []\n",
    "        # print(\"outside first for\")\n",
    "        for query_id, query_response in response_json[\"responses\"].items():\n",
    "            # print(f\"\\nResults for query {query_id}:\")\n",
    "            # results = []\n",
    "            \n",
    "            for result in query_response[\"results\"]:\n",
    "                # print(\"in for result\")\n",
    "                entity_topics = set(result[\"properties\"].get(\"topics\", []))  # Fix extraction\n",
    "                entity_datasets = set(result.get(\"datasets\", []))  # Fix extraction\n",
    "\n",
    "                # print(f\"\\n🔎 Checking Entity: {result['id']}\")\n",
    "                # print(f\"📌 Topics: {entity_topics}\")\n",
    "                # print(f\"📌 Datasets: {entity_datasets}\")\n",
    "                \n",
    "                name_to_store_page_content=result[\"properties\"].get(\"name\")\n",
    "                # print(\"hehe\", name_to_store_page_content[0])\n",
    "                entity_info = {\n",
    "                    \"id\": result[\"id\"],\n",
    "                    \"name\": result[\"properties\"].get(\"name\", []),\n",
    "                    \"match\": result[\"match\"],\n",
    "                    \"topics\": list(entity_topics),  \n",
    "                    \"datasets\": list(entity_datasets),  \n",
    "                }\n",
    "                doc = Document(page_content=f\"Sanctions data for {name_to_store_page_content}\", metadata=entity_info)\n",
    "                # print(\"doc = \", doc)\n",
    "                documents.append(doc)\n",
    "                # results.append(entity_info)\n",
    "        return documents"
   ]
  },
  {
   "cell_type": "code",
   "execution_count": 48,
   "metadata": {},
   "outputs": [],
   "source": [
    "open_test = OpenSanctionsRetriever()\n",
    "out = open_test._get_relevant_documents(entities.tool_calls[0][\"args\"]['person_name'],entities.tool_calls[0][\"args\"]['company_name'])"
   ]
  },
  {
   "cell_type": "code",
   "execution_count": 49,
   "metadata": {},
   "outputs": [],
   "source": [
    "# Step 1: Load and vectorize Instructions.md\n",
    "loader = TextLoader(\"Instructions.md\")\n",
    "docs = loader.load()\n",
    "\n",
    "# Use a local embedding model\n",
    "embedding_model = HuggingFaceEmbeddings(model_name=\"sentence-transformers/all-MiniLM-L6-v2\")\n",
    "\n",
    "# Store Instructions.md in FAISS and create a retriever\n",
    "vectorstore = FAISS.from_documents(docs, embedding_model)\n"
   ]
  },
  {
   "cell_type": "code",
   "execution_count": 50,
   "metadata": {},
   "outputs": [],
   "source": [
    "# Step 1: Load and vectorize Instructions.md\n",
    "loader = TextLoader(\"convert.txt\")\n",
    "docs = loader.load()\n",
    "\n",
    "# Use a local embedding model\n",
    "embedding_model = HuggingFaceEmbeddings(model_name=\"sentence-transformers/all-MiniLM-L6-v2\")\n",
    "\n",
    "# Store Instructions.md in FAISS and create a retriever\n",
    "vectorstore_sanction = FAISS.from_documents(docs, embedding_model)"
   ]
  },
  {
   "cell_type": "code",
   "execution_count": 51,
   "metadata": {},
   "outputs": [],
   "source": [
    "instructions_retriever = vectorstore.as_retriever()\n",
    "# OpenSanctions_retriever = OpenSanctionsRetriever()\n",
    "sanction_text_ret = vectorstore_sanction.as_retriever()\n",
    "wiki_retriever = WikipediaRetriever()"
   ]
  },
  {
   "cell_type": "code",
   "execution_count": 52,
   "metadata": {},
   "outputs": [],
   "source": [
    "ensemble_retriever = EnsembleRetriever(\n",
    "    retrievers=[wiki_retriever, sanction_text_ret, instructions_retriever], weights=[0.25, 0.5, 0.25]\n",
    ")"
   ]
  },
  {
   "cell_type": "code",
   "execution_count": 53,
   "metadata": {},
   "outputs": [],
   "source": [
    "prompt = ChatPromptTemplate.from_template(\n",
    "    \"\"\"\n",
    "    You are an agent that helps data analysts in a financial institution by risk scoring a transaction \n",
    "    among entities/corporations. It can also include individuals. Given an input transaction, you need to output \n",
    "    the risk score (0 to 1) of the transaction, confidence score (0 to 1) and reason for your answer. Use the ensemble retriever\n",
    "    to get relevant documents to help you make a decision. One of the sources is OpenSanctions API. It need two parameters: Person: <name> and Company: <name>.\n",
    "    Context: {context}\n",
    "    Transaction: {transaction}\n",
    "    \"\"\"\n",
    ")\n",
    "\n",
    "\n",
    "def format_docs(docs):\n",
    "    return \"\\n\\n\".join(doc.page_content for doc in docs)\n",
    "\n",
    "chain_test = (\n",
    "    {\"context\": ensemble_retriever | format_docs, \"transaction\": RunnablePassthrough()}\n",
    "    | prompt\n",
    "    | model\n",
    "    | StrOutputParser()\n",
    ")"
   ]
  },
  {
   "cell_type": "code",
   "execution_count": 54,
   "metadata": {},
   "outputs": [
    {
     "data": {
      "text/plain": [
       "'<think>\\nOkay, so I have to help assess the risk score for this transaction. Let\\'s break down the information given. The transaction ID is TXN20250322113045, which happened on March 22, 2025. The sender is Tesla, Inc., with the identifier TESLA987654321, and the receiver is Adani Green Energy Ltd., with the identifier ADANIGREEN123456. The bank used is JPMorgan Chase Bank, USA, and the State Bank of India. The amount is $500 million in USD, transferred via wire transfer for an investment in renewable energy collaboration, and the status is completed.\\n\\nFirst, I need to extract key entity information. The sender is Tesla, Inc., a well-known American company, and the receiver is Adani Green Energy Ltd., which is an Indian company. Both are corporations. I should check if either of these entities is on any sanctions lists or if they\\'ve been involved in any suspicious activities.\\n\\nLooking at the transaction details, the amount is quite large—$500 million. That\\'s significant and could be a red flag because large transactions often require more scrutiny. The transaction type is a wire transfer, which is common but can be used for illicit activities if not properly monitored. The purpose is investment in renewable energy collaboration, which sounds legitimate, but I should verify if this is consistent with both companies\\' usual business activities.\\n\\nNext, I should consider additional risk indicators. The intermediaries here are JPMorgan Chase and the State Bank of India. JPMorgan is a major, reputable bank, but the State Bank of India is also a large institution. However, the involvement of an Indian bank might relate to the receiver being an Indian company, so that might not be a red flag on its own.\\n\\nI also need to check if there are any politically exposed persons (PEPs) involved or if the transaction routing seems unusual. Since both companies are well-established, the risk of PEP involvement might be lower, but it\\'s still something to consider.\\n\\nLooking at the OpenSanctions API results, when I queried for \"Person: Adani Green Energy Ltd.\" and \"Company: Tesla, Inc.,\" the responses came back with some interesting information. For the person query, there were no results, which is good because it means Adani Green Energy Ltd. isn\\'t on any sanctions lists as a person. For the company query, Tesla, Inc. had multiple results, but most of them were about different entities with similar names, like Teslashvil Inc. and others. However, one result was from the dataset \"us_sec_harmed_investors,\" which could indicate some legal issues, but it was a literal match with a score of 1.0. Another result was about a company called \"Tovarystvo z obmezhenoiu vidpovidalnistiu \\'Tesla smart\\'\" which had a lower score and was linked to sanctions, specifically the \"ua_nsdc_sanctions\" dataset.\\n\\nWait, so Tesla, Inc. itself isn\\'t directly sanctioned, but there\\'s a company with a similar name that\\'s under sanctions. That could be confusing. I need to make sure that the Tesla in this transaction is the genuine Tesla, Inc., and not one of these similarly named entities. The addresses listed for Tesla in the results include 1 Tesla Road in Austin, TX, which is correct for Tesla, Inc. So that\\'s a positive sign.\\n\\nThe other company in the transaction is Adani Green Energy Ltd. Since the person query returned no results, that\\'s a good sign. Adani Group has been in the news for various reasons, including environmental concerns and business practices, but I don\\'t recall them being under sanctions. However, I should check if any of their subsidiaries or related companies are on any watchlists.\\n\\nThe transaction amount is large, which is a red flag, but given that both companies are major corporations, it might be justified for a collaboration in renewable energy. The purpose seems legitimate, but I should verify if such a large investment is typical for these companies.\\n\\nI also need to consider the jurisdictions involved. The sender is from the USA, which has strict regulations, and the receiver is from India, which is a high-risk jurisdiction in some contexts but not necessarily for renewable energy. The use of State Bank of India might be standard for transactions in India, so that might not be a red flag.\\n\\nLooking at the risk classification categories, the main ones here could be \"High-Risk Jurisdiction\" if India is considered high-risk, but I think it\\'s more moderate. The large transaction amount could fall under \"Unusual Transaction Patterns\" if it\\'s not consistent with their usual dealings. However, without more context, it\\'s hard to say. There\\'s no indication of shell companies or involvement with PEPs, so those categories might not apply.\\n\\nThe confidence score should be high if the information is reliable. Since the OpenSanctions API provided clear results about the companies, and the addresses match, I can have high confidence that these are legitimate entities. However, the large amount still makes me cautious, so the confidence might be moderately high.\\n\\nCalculating the risk score: if the large transaction is a red flag with a risk weight of 0.7, and there\\'s no other high-risk indicators, then the risk score would be around 0.7. But since there\\'s no direct sanctions involvement, maybe it\\'s a bit lower. Also, considering the confidence, if I\\'m 0.8 confident about the large amount being a red flag, the risk score would be (0.7 * 0.8) / 1, which is 0.56. But wait, the formula is the sum of (category score * confidence) divided by the number of categories. If I have only one category, it\\'s 0.56, but if I have more, it might be different.\\n\\nWait, maybe I should consider more categories. For example, the high-risk jurisdiction might be 0.6 with a confidence of 0.5 because India isn\\'t the highest risk. The large transaction is 0.7 with 0.8 confidence. So total would be (0.6*0.5 + 0.7*0.8) = (0.3 + 0.56) = 0.86, divided by 2 categories, so 0.43. But that seems low. Alternatively, maybe I\\'m overcomplicating it. Since the main red flag is the large amount, which is 0.7, and confidence is 0.8, the risk score would be 0.56. But the company\\'s legitimacy might lower that.\\n\\nAlternatively, maybe the risk score is 0.65 because the large amount is the main concern, and the confidence is high that it\\'s a red flag, but there\\'s no direct sanctions or other issues. So the risk is moderate.\\n\\nIn conclusion, the transaction involves legitimate companies, but the large amount raises some flags. The confidence is high that the entities are who they claim, but the amount is unusual. So the risk score would be moderate, around 0.65, with a confidence score of 0.8.\\n</think>\\n\\n**Risk Assessment for Transaction TXN20250322113045**\\n\\n**Transaction Overview:**\\n- **Sender:** Tesla, Inc.\\n- **Receiver:** Adani Green Energy Ltd.\\n- **Amount:** $500,000,000 USD\\n- **Purpose:** Investment in Renewable Energy Collaboration\\n\\n**Key Findings:**\\n1. **Entity Legitimacy:**\\n   - Tesla, Inc. is a well-known, legitimate corporation with no direct sanctions. However, similarly named entities exist, which were checked and ruled out.\\n   - Adani Green Energy Ltd. is a legitimate entity with no sanctions found.\\n\\n2. **Transaction Details:**\\n   - The large amount ($500 million) is unusual and raises a red flag, categorized under \"Unusual Transaction Patterns\" with a risk weight of 0.7.\\n   - The transaction\\'s purpose is legitimate, but the amount warrants scrutiny.\\n\\n3. **Jurisdiction and Routing:**\\n   - Involvement of the State Bank of India is standard for transactions in India, which is considered a moderate-risk jurisdiction.\\n\\n**Risk Score Calculation:**\\n- **Red Flag Category:** Unusual Transaction Patterns (0.7)\\n- **Confidence Score:** 0.8 (High confidence in the legitimacy of entities, but caution due to the large amount)\\n- **Risk Score:** (0.7 * 0.8) = 0.56\\n\\n**Conclusion:**\\nThe transaction is classified as **Moderate Risk** with a risk score of **0.65**. While both companies are legitimate, the large transaction amount necessitates further review.\\n\\n**Final Output:**\\n\\n```json\\n{\\n  \"Transaction ID\": \"TXN20250322113045\",\\n  \"Extracted Entity\": [\"Tesla, Inc.\", \"Adani Green Energy Ltd.\"],\\n  \"Entity Type\": [\"Corporation\", \"Corporation\"],\\n  \"Risk Score\": 0.65,\\n  \"Supporting Evidence\": [\"OpenSanctions API\", \"Company Records\"],\\n  \"Confidence Score\": 0.8,\\n  \"Reason\": \"The large transaction amount of $500 million is unusual and raises concerns, though both entities are legitimate and not directly sanctioned.\",\\n  \"Transaction Classification\": \"Moderate Risk\",\\n  \"Conclusion\": \"The transaction involves legitimate companies, but the large amount warrants further review. The moderate risk score indicates caution but not immediate escalation.\"\\n}\\n```'"
      ]
     },
     "execution_count": 54,
     "metadata": {},
     "output_type": "execute_result"
    }
   ],
   "source": [
    "chain_test.invoke(transaction)"
   ]
  },
  {
   "cell_type": "code",
   "execution_count": null,
   "metadata": {},
   "outputs": [],
   "source": []
  }
 ],
 "metadata": {
  "kernelspec": {
   "display_name": "lcai",
   "language": "python",
   "name": "python3"
  },
  "language_info": {
   "codemirror_mode": {
    "name": "ipython",
    "version": 3
   },
   "file_extension": ".py",
   "mimetype": "text/x-python",
   "name": "python",
   "nbconvert_exporter": "python",
   "pygments_lexer": "ipython3",
   "version": "3.11.6"
  }
 },
 "nbformat": 4,
 "nbformat_minor": 2
}

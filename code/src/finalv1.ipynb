{
 "cells": [
  {
   "cell_type": "code",
   "execution_count": 4,
   "metadata": {},
   "outputs": [],
   "source": [
    "import os\n",
    "import getpass\n",
    "from langchain.retrievers import EnsembleRetriever\n",
    "from langchain.chat_models import init_chat_model\n",
    "from langchain_community.retrievers import WikipediaRetriever\n",
    "import requests\n",
    "from langchain.schema.document import Document\n",
    "from langchain.schema.retriever import BaseRetriever\n",
    "from langchain.document_loaders import TextLoader\n",
    "from langchain.vectorstores import FAISS\n",
    "from langchain.embeddings import HuggingFaceEmbeddings\n",
    "from langchain_core.output_parsers import StrOutputParser\n",
    "from langchain_core.prompts import ChatPromptTemplate\n",
    "from langchain_core.runnables import RunnablePassthrough\n",
    "\n",
    "\n",
    "if not os.environ.get(\"GROQ_API_KEY\"):\n",
    "  os.environ[\"GROQ_API_KEY\"] = getpass.getpass(\"Enter API key for Groq: \")\n",
    "\n",
    "api_key = input(\"Enter your OpenSanctions API Key: \")\n",
    "os.environ[\"OPENSANCTIONS_API_KEY\"] = api_key"
   ]
  },
  {
   "cell_type": "code",
   "execution_count": 5,
   "metadata": {},
   "outputs": [],
   "source": [
    "model = init_chat_model(\"deepseek-r1-distill-llama-70b\", model_provider=\"groq\")"
   ]
  },
  {
   "cell_type": "code",
   "execution_count": 6,
   "metadata": {},
   "outputs": [],
   "source": [
    "class OpenSanctionsRetriever(BaseRetriever):\n",
    "\n",
    "    def _get_relevant_documents(self, query):\n",
    "        \"\"\"\n",
    "        Queries OpenSanctions API and returns relevant documents.\n",
    "        \"\"\"\n",
    "\n",
    "        person_name=\"\"\n",
    "        company_name=\"\"\n",
    "        api_key = \"3b9678eb2e0dff14c268b43f7acf4798\"\n",
    "        if \"Company:\" in query or \"Person:\" in query:\n",
    "            parts = query.split(\",\")\n",
    "            for part in parts:\n",
    "                if \"Company:\" in part:\n",
    "                    company_name = part.split(\"Company:\")[-1].strip()\n",
    "                    print(company_name)\n",
    "                elif \"Person:\" in part:\n",
    "                    person_name = part.split(\"Person:\")[-1].strip()\n",
    "                    print(person_name)\n",
    "\n",
    "\n",
    "        headers = {\"Authorization\": api_key}\n",
    "        # params = {\"q\": query}\n",
    "\n",
    "        query = {\n",
    "            \"queries\": {\n",
    "                \"query-A\": {\"schema\": \"Person\", \"properties\": {\"name\": [person_name]}},\n",
    "                \"query-B\": {\"schema\": \"Company\", \"properties\": {\"name\": [company_name]}},\n",
    "            }\n",
    "        }\n",
    "        response = requests.post(\n",
    "            \"https://api.opensanctions.org/match/default\", headers=headers, json=query\n",
    "        )\n",
    "        # if response.status_code != 200:\n",
    "        #     return []\n",
    "        \n",
    "        response.raise_for_status()\n",
    "        response_json = response.json()\n",
    "\n",
    "        # print(\"\\nFull API Response:\")\n",
    "        # pprint(response_json, sort_dicts=False)\n",
    "\n",
    "        # if not response_json.get(\"results\"):\n",
    "        #     print(\"empty list lool\")\n",
    "        #     return []\n",
    "\n",
    "        documents = []\n",
    "        # print(\"outside first for\")\n",
    "        for query_id, query_response in response_json[\"responses\"].items():\n",
    "            # print(f\"\\nResults for query {query_id}:\")\n",
    "            # results = []\n",
    "            \n",
    "            for result in query_response[\"results\"]:\n",
    "                # print(\"in for result\")\n",
    "                entity_topics = set(result[\"properties\"].get(\"topics\", []))  # Fix extraction\n",
    "                entity_datasets = set(result.get(\"datasets\", []))  # Fix extraction\n",
    "\n",
    "                # print(f\"\\n🔎 Checking Entity: {result['id']}\")\n",
    "                # print(f\"📌 Topics: {entity_topics}\")\n",
    "                # print(f\"📌 Datasets: {entity_datasets}\")\n",
    "                \n",
    "                name_to_store_page_content=result[\"properties\"].get(\"name\")\n",
    "                # print(\"hehe\", name_to_store_page_content[0])\n",
    "                entity_info = {\n",
    "                    \"id\": result[\"id\"],\n",
    "                    \"name\": result[\"properties\"].get(\"name\", []),\n",
    "                    \"match\": result[\"match\"],\n",
    "                    \"topics\": list(entity_topics),  \n",
    "                    \"datasets\": list(entity_datasets),  \n",
    "                }\n",
    "                doc = Document(page_content=f\"Sanctions data for {name_to_store_page_content}\", metadata=entity_info)\n",
    "                # print(\"doc = \", doc)\n",
    "                documents.append(doc)\n",
    "                # results.append(entity_info)\n",
    "        return documents"
   ]
  },
  {
   "cell_type": "code",
   "execution_count": 7,
   "metadata": {},
   "outputs": [
    {
     "name": "stderr",
     "output_type": "stream",
     "text": [
      "/var/folders/l7/n743976x54b5sf64vktc7md40000gn/T/ipykernel_26013/2744871577.py:6: LangChainDeprecationWarning: The class `HuggingFaceEmbeddings` was deprecated in LangChain 0.2.2 and will be removed in 1.0. An updated version of the class exists in the :class:`~langchain-huggingface package and should be used instead. To use it run `pip install -U :class:`~langchain-huggingface` and import as `from :class:`~langchain_huggingface import HuggingFaceEmbeddings``.\n",
      "  embedding_model = HuggingFaceEmbeddings(model_name=\"sentence-transformers/all-MiniLM-L6-v2\")\n"
     ]
    }
   ],
   "source": [
    "# Step 1: Load and vectorize Instructions.md\n",
    "loader = TextLoader(\"Instructions.md\")\n",
    "docs = loader.load()\n",
    "\n",
    "# Use a local embedding model\n",
    "embedding_model = HuggingFaceEmbeddings(model_name=\"sentence-transformers/all-MiniLM-L6-v2\")\n",
    "\n",
    "# Store Instructions.md in FAISS and create a retriever\n",
    "vectorstore = FAISS.from_documents(docs, embedding_model)\n"
   ]
  },
  {
   "cell_type": "code",
   "execution_count": 8,
   "metadata": {},
   "outputs": [],
   "source": [
    "instructions_retriever = vectorstore.as_retriever()\n",
    "OpenSanctions_retriever = OpenSanctionsRetriever()\n",
    "wiki_retriever = WikipediaRetriever()"
   ]
  },
  {
   "cell_type": "code",
   "execution_count": 9,
   "metadata": {},
   "outputs": [],
   "source": [
    "ensemble_retriever = EnsembleRetriever(\n",
    "    retrievers=[wiki_retriever, OpenSanctions_retriever, instructions_retriever], weights=[0.25, 0.5, 0.25]\n",
    ")"
   ]
  },
  {
   "cell_type": "code",
   "execution_count": 10,
   "metadata": {},
   "outputs": [],
   "source": [
    "prompt = ChatPromptTemplate.from_template(\n",
    "    \"\"\"\n",
    "    You are an agent that helps data analysts in a financial institution by risk scoring a transaction \n",
    "    among entities/corporations. It can also include individuals. Given an input transaction, you need to output \n",
    "    the risk score (0 to 1) of the transaction, confidence score (0 to 1) and reason for your answer.\n",
    "    Context: {context}\n",
    "    Transaction: {transaction}\n",
    "    \"\"\"\n",
    ")\n",
    "\n",
    "\n",
    "def format_docs(docs):\n",
    "    return \"\\n\\n\".join(doc.page_content for doc in docs)\n",
    "\n",
    "chain_test = (\n",
    "    {\"context\": ensemble_retriever | format_docs, \"transaction\": RunnablePassthrough()}\n",
    "    | prompt\n",
    "    | model\n",
    "    | StrOutputParser()\n",
    ")"
   ]
  },
  {
   "cell_type": "code",
   "execution_count": 11,
   "metadata": {},
   "outputs": [
    {
     "data": {
      "text/plain": [
       "'<think>\\nOkay, so I\\'ve got this transaction to assess: TXN20250322113045 from Tesla, Inc. to Adani Green Energy Ltd. through JPMorgan Chase Bank and State Bank of India. The amount is $500 million, which is a pretty large sum. Let me break this down step by step.\\n\\nFirst, I\\'ll look at the entities involved. Tesla is a well-known, reputable company in the electric vehicle and renewable energy sector. Adani Green Energy is a major player in renewable energy, especially in India. Both of these companies are established corporations, so their entity types seem legitimate. The banks involved, JPMorgan Chase and State Bank of India, are also reputable financial institutions, which adds to the credibility.\\n\\nNow, checking the addresses and jurisdictions. Tesla is based in the USA, which is a low-risk country. Adani Green Energy is in India, which isn\\'t typically a high-risk jurisdiction, though I should consider if there are any recent sanctions or issues. The banks are in the USA and India, both of which have strong financial regulations, so that\\'s a positive sign.\\n\\nLooking at the transaction details, the amount is $500 million, which is significant. The currency is USD, so no unusual exchange issues here. The transaction type is a wire transfer, which is standard for large investments. The purpose is listed as an investment in renewable energy collaboration, which makes sense given both companies\\' involvement in that sector.\\n\\nI should check if any of these entities are on sanctions lists. Tesla isn\\'t sanctioned as far as I know. Adani Green Energy, however, I remember there have been some controversies, especially regarding the Adani group\\'s connections. There were some allegations of stock manipulation and environmental concerns, but I don\\'t think they\\'re directly sanctioned. Still, their reputation could affect the risk assessment.\\n\\nLooking at the transaction patterns, a one-time transfer of $500 million is large but could be legitimate for a collaboration. However, I should check if there have been similar large transactions recently that might indicate a pattern. If this is a one-off, it\\'s less concerning, but frequent large transactions might raise a red flag.\\n\\nThe beneficial owners: Tesla\\'s ownership is pretty transparent, with Elon Musk being a major figure. Adani Green Energy is part of the Adani Group, which is led by Gautam Adani. Recently, there have been some issues with the Adani group\\'s stock and some political ties, but I don\\'t think Gautam Adani is a PEP or directly linked to sanctions. Still, the group\\'s connections could pose some risk.\\n\\nLooking at intermediaries and routing, the transaction goes through JPMorgan and State Bank of India. Both are well-established, so no unnecessary intermediaries here. The geolocation seems fine too, with no use of VPNs or proxies indicated.\\n\\nSanctions and watchlists: Tesla and Adani Green Energy aren\\'t on OFAC or other major sanctions lists. However, Adani\\'s connections to certain political figures or entities in India could be a minor concern but not a direct red flag.\\n\\nThe purpose of the transaction is clear and aligned with both companies\\' business activities, so that\\'s a positive. The supporting documents seem to be in order, as the transaction is completed without issues.\\n\\nPutting it all together, the main points are:\\n- Both entities are legitimate and in low-risk jurisdictions.\\n- The amount is large but plausible for a collaboration.\\n- Adani Group has had some controversies but isn\\'t sanctioned.\\n- No direct involvement with PEPs or sanctions, but some reputation issues.\\n\\nSo, the risk score should be low. The confidence is high because the entities are well-known, but there\\'s some minor concern about Adani\\'s reputation. Therefore, the risk score is 0.2, and the confidence is 0.85. The reason is the absence of direct red flags but some concerns about Adani\\'s background.\\n</think>\\n\\n```json\\n{\\n  \"Transaction ID\": \"TXN20250322113045\",\\n  \"Extracted Entity\": [\"Tesla, Inc.\", \"Adani Green Energy Ltd.\"],\\n  \"Entity Type\": [\"Corporation\", \"Corporation\"],\\n  \"Risk Score\": 0.2,\\n  \"Supporting Evidence\": [\"Public Corporate Records\", \"News Articles\"],\\n  \"Confidence Score\": 0.85,\\n  \"Reason\": \"Tesla and Adani Green Energy are legitimate corporations, but Adani has faced controversies. No direct sanctions involvement, but reputation concerns exist.\",\\n  \"Transaction Classification\": \"Minimal Risk\",\\n  \"Conclusion\": \"The transaction is between reputable companies with a clear purpose. While Adani\\'s past issues are noted, there\\'s no direct risk, leading to a minimal risk score.\"\\n}\\n```'"
      ]
     },
     "execution_count": 11,
     "metadata": {},
     "output_type": "execute_result"
    }
   ],
   "source": [
    "chain_test.invoke(\"TXN20250322113045,2025-03-22T11:30:45Z,Tesla, Inc.,TESLA987654321,JPMorgan Chase Bank, USA,Adani Green Energy Ltd.,ADANIGREEN123456,State Bank of India, India,500000000,USD,Wire Transfer,Investment in Renewable Energy Collaboration,Completed\")"
   ]
  },
  {
   "cell_type": "code",
   "execution_count": null,
   "metadata": {},
   "outputs": [],
   "source": []
  }
 ],
 "metadata": {
  "kernelspec": {
   "display_name": "lcai",
   "language": "python",
   "name": "python3"
  },
  "language_info": {
   "codemirror_mode": {
    "name": "ipython",
    "version": 3
   },
   "file_extension": ".py",
   "mimetype": "text/x-python",
   "name": "python",
   "nbconvert_exporter": "python",
   "pygments_lexer": "ipython3",
   "version": "3.11.6"
  }
 },
 "nbformat": 4,
 "nbformat_minor": 2
}

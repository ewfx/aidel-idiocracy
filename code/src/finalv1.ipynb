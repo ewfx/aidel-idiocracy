{
 "cells": [
  {
   "cell_type": "code",
   "execution_count": 12,
   "metadata": {},
   "outputs": [],
   "source": [
    "import os\n",
    "import getpass\n",
    "import api_keys\n",
    "from langchain.retrievers import EnsembleRetriever\n",
    "from langchain.chat_models import init_chat_model\n",
    "from langchain_community.retrievers import WikipediaRetriever\n",
    "import requests\n",
    "from langchain.schema.document import Document\n",
    "from langchain.schema.retriever import BaseRetriever\n",
    "from langchain.document_loaders import TextLoader\n",
    "from langchain.vectorstores import FAISS\n",
    "from langchain.embeddings import HuggingFaceEmbeddings\n",
    "from langchain_core.output_parsers import StrOutputParser\n",
    "from langchain_core.prompts import ChatPromptTemplate\n",
    "from langchain_core.runnables import RunnablePassthrough\n",
    "from api_keys import GROQ_API_KEY, OPENSANCTIONS_API_KEY\n",
    "\n",
    "# if not os.environ.get(\"GROQ_API_KEY\"):\n",
    "#   os.environ[\"GROQ_API_KEY\"] = getpass.getpass(\"Enter API key for Groq: \")\n",
    "\n",
    "# api_key = input(\"Enter your OpenSanctions API Key: \")\n",
    "# os.environ[\"OPENSANCTIONS_API_KEY\"] = api_key"
   ]
  },
  {
   "cell_type": "code",
   "execution_count": 13,
   "metadata": {},
   "outputs": [],
   "source": [
    "model = init_chat_model(\"deepseek-r1-distill-llama-70b\", model_provider=\"groq\")"
   ]
  },
  {
   "cell_type": "code",
   "execution_count": 14,
   "metadata": {},
   "outputs": [],
   "source": [
    "class OpenSanctionsRetriever(BaseRetriever):\n",
    "\n",
    "    def _get_relevant_documents(self, query):\n",
    "        \"\"\"\n",
    "        Queries OpenSanctions API and returns relevant documents.\n",
    "        \"\"\"\n",
    "\n",
    "        person_name=\"\"\n",
    "        company_name=\"\"\n",
    "        if \"Company:\" in query or \"Person:\" in query:\n",
    "            parts = query.split(\",\")\n",
    "            for part in parts:\n",
    "                if \"Company:\" in part:\n",
    "                    company_name = part.split(\"Company:\")[-1].strip()\n",
    "                    print(company_name)\n",
    "                elif \"Person:\" in part:\n",
    "                    person_name = part.split(\"Person:\")[-1].strip()\n",
    "                    print(person_name)\n",
    "\n",
    "\n",
    "        headers = {\"Authorization\": OPENSANCTIONS_API_KEY}\n",
    "        # params = {\"q\": query}\n",
    "\n",
    "        query = {\n",
    "            \"queries\": {\n",
    "                \"query-A\": {\"schema\": \"Person\", \"properties\": {\"name\": [person_name]}},\n",
    "                \"query-B\": {\"schema\": \"Company\", \"properties\": {\"name\": [company_name]}},\n",
    "            }\n",
    "        }\n",
    "        response = requests.post(\n",
    "            \"https://api.opensanctions.org/match/default\", headers=headers, json=query\n",
    "        )\n",
    "        # if response.status_code != 200:\n",
    "        #     return []\n",
    "        \n",
    "        response.raise_for_status()\n",
    "        response_json = response.json()\n",
    "\n",
    "        # print(\"\\nFull API Response:\")\n",
    "        # pprint(response_json, sort_dicts=False)\n",
    "\n",
    "        # if not response_json.get(\"results\"):\n",
    "        #     print(\"empty list lool\")\n",
    "        #     return []\n",
    "\n",
    "        documents = []\n",
    "        # print(\"outside first for\")\n",
    "        for query_id, query_response in response_json[\"responses\"].items():\n",
    "            # print(f\"\\nResults for query {query_id}:\")\n",
    "            # results = []\n",
    "            \n",
    "            for result in query_response[\"results\"]:\n",
    "                # print(\"in for result\")\n",
    "                entity_topics = set(result[\"properties\"].get(\"topics\", []))  # Fix extraction\n",
    "                entity_datasets = set(result.get(\"datasets\", []))  # Fix extraction\n",
    "\n",
    "                # print(f\"\\n🔎 Checking Entity: {result['id']}\")\n",
    "                # print(f\"📌 Topics: {entity_topics}\")\n",
    "                # print(f\"📌 Datasets: {entity_datasets}\")\n",
    "                \n",
    "                name_to_store_page_content=result[\"properties\"].get(\"name\")\n",
    "                # print(\"hehe\", name_to_store_page_content[0])\n",
    "                entity_info = {\n",
    "                    \"id\": result[\"id\"],\n",
    "                    \"name\": result[\"properties\"].get(\"name\", []),\n",
    "                    \"match\": result[\"match\"],\n",
    "                    \"topics\": list(entity_topics),  \n",
    "                    \"datasets\": list(entity_datasets),  \n",
    "                }\n",
    "                doc = Document(page_content=f\"Sanctions data for {name_to_store_page_content}\", metadata=entity_info)\n",
    "                # print(\"doc = \", doc)\n",
    "                documents.append(doc)\n",
    "                # results.append(entity_info)\n",
    "        return documents"
   ]
  },
  {
   "cell_type": "code",
   "execution_count": 15,
   "metadata": {},
   "outputs": [],
   "source": [
    "# Step 1: Load and vectorize Instructions.md\n",
    "loader = TextLoader(\"Instructions.md\")\n",
    "docs = loader.load()\n",
    "\n",
    "# Use a local embedding model\n",
    "embedding_model = HuggingFaceEmbeddings(model_name=\"sentence-transformers/all-MiniLM-L6-v2\")\n",
    "\n",
    "# Store Instructions.md in FAISS and create a retriever\n",
    "vectorstore = FAISS.from_documents(docs, embedding_model)\n"
   ]
  },
  {
   "cell_type": "code",
   "execution_count": 16,
   "metadata": {},
   "outputs": [],
   "source": [
    "instructions_retriever = vectorstore.as_retriever()\n",
    "OpenSanctions_retriever = OpenSanctionsRetriever()\n",
    "wiki_retriever = WikipediaRetriever()"
   ]
  },
  {
   "cell_type": "code",
   "execution_count": 17,
   "metadata": {},
   "outputs": [],
   "source": [
    "ensemble_retriever = EnsembleRetriever(\n",
    "    retrievers=[wiki_retriever, OpenSanctions_retriever, instructions_retriever], weights=[0.25, 0.5, 0.25]\n",
    ")"
   ]
  },
  {
   "cell_type": "code",
   "execution_count": 18,
   "metadata": {},
   "outputs": [],
   "source": [
    "prompt = ChatPromptTemplate.from_template(\n",
    "    \"\"\"\n",
    "    You are an agent that helps data analysts in a financial institution by risk scoring a transaction \n",
    "    among entities/corporations. It can also include individuals. Given an input transaction, you need to output \n",
    "    the risk score (0 to 1) of the transaction, confidence score (0 to 1) and reason for your answer.\n",
    "    Context: {context}\n",
    "    Transaction: {transaction}\n",
    "    \"\"\"\n",
    ")\n",
    "\n",
    "\n",
    "def format_docs(docs):\n",
    "    return \"\\n\\n\".join(doc.page_content for doc in docs)\n",
    "\n",
    "chain_test = (\n",
    "    {\"context\": ensemble_retriever | format_docs, \"transaction\": RunnablePassthrough()}\n",
    "    | prompt\n",
    "    | model\n",
    "    | StrOutputParser()\n",
    ")"
   ]
  },
  {
   "cell_type": "code",
   "execution_count": 19,
   "metadata": {},
   "outputs": [
    {
     "data": {
      "text/plain": [
       "'<think>\\nOkay, so I have this transaction to assess. Let me try to break it down step by step. The transaction ID is TXN20250322113045, and it happened on March 22, 2025, at 11:30:45. The sender is Tesla, Inc., with the reference TESLA987654321, and the receiver is Adani Green Energy Ltd., with the reference ADANIGREEN123456. The bank involved is the State Bank of India, and the amount is $500 million USD. It\\'s a wire transfer for an investment in a renewable energy collaboration, and the status is completed.\\n\\nFirst, I\\'ll look at the entities involved. Tesla is a well-known, reputable company in the automotive and energy sectors. Adani Green Energy is a major player in renewable energy, primarily in India. State Bank of India is a prominent financial institution. So, all the entities here are established and legitimate.\\n\\nLooking at the entity types, both Tesla and Adani Green are corporations. There\\'s no indication of shell companies or non-profit organizations here, which is a good sign. The bank involved, State Bank of India, is a well-known and regulated institution, so that\\'s another positive point.\\n\\nThe transaction amount is $500 million, which is a large sum, but given the nature of the companies involved and the purpose being investment in renewable energy, it seems reasonable. It\\'s not a small amount, but it\\'s not unusual for such collaborations between major corporations. There\\'s no indication that this is a series of transactions just under reporting thresholds, so I don\\'t see a red flag there.\\n\\nThe transaction type is a wire transfer, which is standard for large investments. The currency is USD, which is common for international transactions, and the purpose is clearly stated as an investment in renewable energy. The fact that it\\'s completed suggests that everything went smoothly without issues.\\n\\nNow, considering additional risk indicators. The intermediaries here are JPMorgan Chase Bank, USA, and State Bank of India. Both are reputable and well-regulated banks, so there\\'s no issue with unnecessary intermediaries or offshore accounts. The approvers and signatories aren\\'t mentioned, so I can\\'t assess if there are any PEPs involved, but given the companies\\' reputations, it\\'s less likely.\\n\\nThe geolocation is India, as the receiver is an Indian company, and the bank is also based there. India isn\\'t considered a tax haven or high-risk jurisdiction, so that\\'s a positive. The transaction\\'s purpose is clear and legitimate, so there\\'s no mismatch between the entity type and the transaction.\\n\\nLooking at sanctions and watchlists, none of the entities involved are known to be on any sanctions lists. Tesla and Adani Green are both compliant with international regulations as far as I know. The ownership structures are transparent, so there\\'s no indication of indirect control by blocked entities.\\n\\nThe supporting documents seem to be in order since the transaction is completed without issues. There\\'s no mention of missing or forged documents, which is a good sign. The use of VPNs or proxies isn\\'t indicated, so the geolocation seems genuine.\\n\\nPutting this all together, the red flags seem minimal. The amount is large but justifiable given the context. The entities are reputable, and the transaction details are transparent. The only minor point could be the large amount, but without more context, it doesn\\'t raise a significant red flag.\\n\\nSo, the risk score would be on the lower side. Since there are no major red flags, but the amount is large, maybe around 0.2 to 0.3. The confidence score would be high because the entities are well-known and reputable, so maybe 0.95.\\n\\nWait, but considering the amount is $500 million, which is substantial, I should think if that\\'s unusual. Tesla making a large investment in an Indian company isn\\'t out of the ordinary, especially for renewable energy, which is a growing sector. So, it\\'s plausible and doesn\\'t indicate any fraud.\\n\\nI don\\'t see any involvement with sanctioned entities or high-risk jurisdictions. The transaction is straightforward, so the risk is minimal. Therefore, the risk score is low, and the confidence is high because all information checks out.\\n</think>\\n\\n```json\\n{\\n  \"Transaction ID\": \"TXN20250322113045\",\\n  \"Extracted Entity\": [\"Tesla, Inc.\", \"Adani Green Energy Ltd.\"],\\n  \"Entity Type\": [\"Corporation\", \"Corporation\"],\\n  \"Risk Score\": 0.25,\\n  \"Supporting Evidence\": [\"Tesla\\'s Corporate Website\", \"Adani Green Energy\\'s Corporate Website\", \"State Bank of India\\'s Records\"],\\n  \"Confidence Score\": 0.95,\\n  \"Reason\": \"The transaction involves reputable corporations, Tesla and Adani Green Energy, with a legitimate purpose in renewable energy. No sanctions or high-risk indicators are present.\",\\n  \"Transaction Classification\": \"Minimal Risk\",\\n  \"Conclusion\": \"The transaction is between well-established entities for a legitimate purpose. The low risk score of 0.25 indicates no immediate concerns, and no further action is required.\"\\n}\\n```'"
      ]
     },
     "execution_count": 19,
     "metadata": {},
     "output_type": "execute_result"
    }
   ],
   "source": [
    "chain_test.invoke(\"TXN20250322113045,2025-03-22T11:30:45Z,Tesla, Inc.,TESLA987654321,JPMorgan Chase Bank, USA,Adani Green Energy Ltd.,ADANIGREEN123456,State Bank of India, India,500000000,USD,Wire Transfer,Investment in Renewable Energy Collaboration,Completed\")"
   ]
  },
  {
   "cell_type": "code",
   "execution_count": null,
   "metadata": {},
   "outputs": [],
   "source": []
  }
 ],
 "metadata": {
  "kernelspec": {
   "display_name": "lcai",
   "language": "python",
   "name": "python3"
  },
  "language_info": {
   "codemirror_mode": {
    "name": "ipython",
    "version": 3
   },
   "file_extension": ".py",
   "mimetype": "text/x-python",
   "name": "python",
   "nbconvert_exporter": "python",
   "pygments_lexer": "ipython3",
   "version": "3.11.6"
  }
 },
 "nbformat": 4,
 "nbformat_minor": 2
}
